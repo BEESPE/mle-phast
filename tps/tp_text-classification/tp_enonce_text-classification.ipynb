{
 "cells": [
  {
   "cell_type": "markdown",
   "metadata": {},
   "source": [
    "# TP : Classification de Texte avec Scikit-Learn\n",
    "\n",
    "Dans ce TP, nous allons explorer les outils principaux de Scikit-Learn pour une tâche de classification de documents textuels, en utilisant le dataset des *Twenty Newsgroups*.\n",
    "\n",
    "Objectifs :\n",
    "\n",
    "- Charger et préparer les données\n",
    "- Extraire des caractéristiques des textes\n",
    "- Entraîner un modèle de classification\n",
    "- Évaluer les performances du modèle\n",
    "\n",
    "Nous aborderons aussi la recherche de paramètres optimaux via une recherche en grille.\n"
   ]
  },
  {
   "cell_type": "markdown",
   "metadata": {},
   "source": [
    "### Préparation\n",
    "\n",
    "Pour commencer, assurez-vous d'avoir installé *scikit-learn* et les autres dépendances nécessaires.\n",
    "\n",
    "Commençons par charger les données et définir les catégories que nous utiliserons dans cet exercice.\n",
    "\n",
    "> Question 1 : Importez les bibliothèques nécessaires et configurez le dataset pour contenir les catégories `alt.atheism`, `soc.religion.christian`, `comp.graphics`, et `sci.med`."
   ]
  },
  {
   "cell_type": "code",
   "execution_count": 1,
   "metadata": {},
   "outputs": [],
   "source": [
    "# Votre code ici"
   ]
  },
  {
   "cell_type": "markdown",
   "metadata": {},
   "source": [
    "### Analyse des Données Chargées\n",
    "\n",
    "Les données sont chargées sous forme d'un *bunch*, un objet contenant plusieurs attributs utiles pour notre analyse.\n",
    "\n",
    "> Question 2 : Affichez le nombre de documents et les catégories de nouvelles chargées dans le dataset."
   ]
  },
  {
   "cell_type": "code",
   "execution_count": null,
   "metadata": {},
   "outputs": [],
   "source": [
    "# Votre code ici"
   ]
  },
  {
   "cell_type": "markdown",
   "metadata": {},
   "source": [
    "### Exploration des Données Textuelles\n",
    "\n",
    "> Question 3 : Affichez les premières lignes du premier document, ainsi que sa catégorie associée.\n",
    "\n",
    "Cela nous donnera un aperçu des documents et de leur contenu."
   ]
  },
  {
   "cell_type": "code",
   "execution_count": null,
   "metadata": {},
   "outputs": [],
   "source": [
    "# Votre code ici"
   ]
  },
  {
   "cell_type": "markdown",
   "metadata": {},
   "source": [
    "### Extraction des Caractéristiques des Textes\n",
    "\n",
    "Pour entraîner un modèle, nous devons transformer les documents textuels en vecteurs de caractéristiques numériques.\n",
    "\n",
    "> Question 4 : Utilisez la méthode `CountVectorizer` pour transformer les textes en une matrice de fréquences de mots, puis affichez la taille de cette matrice.\n",
    "\n",
    "Cette matrice, de type \"sac de mots\", représente chaque document par les occurrences des mots qu'il contient."
   ]
  },
  {
   "cell_type": "code",
   "execution_count": null,
   "metadata": {},
   "outputs": [],
   "source": [
    "# Votre code ici"
   ]
  },
  {
   "cell_type": "markdown",
   "metadata": {},
   "source": [
    "### Passage aux Fréquences Relatives (tf-idf)\n",
    "\n",
    "Pour équilibrer l'importance des mots entre documents de différentes longueurs, on utilise la fréquence de termes (TF) ou bien TF-IDF.\n",
    "\n",
    "> Question 5 : Transformez la matrice en représentation TF-IDF et affichez la dimension de cette nouvelle matrice.\n"
   ]
  },
  {
   "cell_type": "code",
   "execution_count": null,
   "metadata": {},
   "outputs": [],
   "source": [
    "# Votre code ici"
   ]
  },
  {
   "cell_type": "markdown",
   "metadata": {},
   "source": [
    "### Entraînement d'un Classifieur Naïve Bayes\n",
    "\n",
    "Avec notre matrice de caractéristiques prête, entraînons un classifieur Naïve Bayes pour prédire la catégorie de chaque document.\n",
    "\n",
    "> Question 6 : Entraînez un classifieur `MultinomialNB` sur le jeu de données transformé en TF-IDF.\n"
   ]
  },
  {
   "cell_type": "code",
   "execution_count": 6,
   "metadata": {},
   "outputs": [],
   "source": [
    "# Votre code ici"
   ]
  },
  {
   "cell_type": "markdown",
   "metadata": {},
   "source": [
    "### Prédiction sur des Nouveaux Documents\n",
    "\n",
    "> Question 7 : Prédisez les catégories pour les phrases `\"God is love\"` et `\"OpenGL on the GPU is fast\"`.\n",
    "\n",
    "Affichez la catégorie prédite pour chaque document.\n"
   ]
  },
  {
   "cell_type": "code",
   "execution_count": null,
   "metadata": {},
   "outputs": [],
   "source": [
    "# Votre code ici"
   ]
  },
  {
   "cell_type": "markdown",
   "metadata": {},
   "source": [
    "### Construction d'un Pipeline pour Simplifier le Workflow\n",
    "\n",
    "> Question 8 : Créez un `Pipeline` qui enchaîne `CountVectorizer`, `TfidfTransformer` et `MultinomialNB`, puis entraînez le modèle sur le jeu de données.\n",
    "\n",
    "Cela rend le processus d'extraction de caractéristiques et d'entraînement plus facile et modulaire.\n"
   ]
  },
  {
   "cell_type": "code",
   "execution_count": null,
   "metadata": {},
   "outputs": [],
   "source": [
    "# Votre code ici"
   ]
  },
  {
   "cell_type": "markdown",
   "metadata": {},
   "source": [
    "### Évaluation des Performances du Modèle\n",
    "\n",
    "> Question 9 : Chargez le sous-ensemble de test et évaluez les performances du modèle en termes de précision moyenne.\n",
    "\n",
    "Affichez également le rapport de classification et la matrice de confusion pour une évaluation plus détaillée.\n"
   ]
  },
  {
   "cell_type": "code",
   "execution_count": null,
   "metadata": {},
   "outputs": [],
   "source": [
    "# Votre code ici"
   ]
  },
  {
   "cell_type": "markdown",
   "metadata": {},
   "source": [
    "### Optimisation des Paramètres avec Grid Search\n",
    "\n",
    "Scikit-Learn permet d'optimiser les paramètres des composants du pipeline par une recherche en grille.\n",
    "\n",
    "> Question 10 : Utilisez `GridSearchCV` pour trouver les meilleurs paramètres parmi différents modèles de machine learning.\n",
    "\n",
    "Testez les modèles `MultinomialNB` et `SVC`, avec une recherche de paramètres pour le modèle `SVC`.\n"
   ]
  },
  {
   "cell_type": "code",
   "execution_count": 10,
   "metadata": {},
   "outputs": [],
   "source": [
    "# Votre code ici"
   ]
  },
  {
   "cell_type": "markdown",
   "metadata": {},
   "source": [
    "> Question 11 : Affichez les meilleurs paramètres trouvés et la précision obtenue pour ces paramètres optimaux.\n"
   ]
  },
  {
   "cell_type": "code",
   "execution_count": null,
   "metadata": {},
   "outputs": [],
   "source": [
    "# Votre code ici"
   ]
  },
  {
   "cell_type": "markdown",
   "metadata": {},
   "source": [
    " 🎉"
   ]
  }
 ],
 "metadata": {
  "kernelspec": {
   "display_name": "test-yOZBwoax-py3.11",
   "language": "python",
   "name": "python3"
  },
  "language_info": {
   "codemirror_mode": {
    "name": "ipython",
    "version": 3
   },
   "file_extension": ".py",
   "mimetype": "text/x-python",
   "name": "python",
   "nbconvert_exporter": "python",
   "pygments_lexer": "ipython3",
   "version": "3.11.4"
  }
 },
 "nbformat": 4,
 "nbformat_minor": 2
}
