{
 "cells": [
  {
   "cell_type": "markdown",
   "metadata": {
    "application/vnd.databricks.v1+cell": {
     "cellMetadata": {},
     "inputWidgets": {},
     "nuid": "0a2a92bf-3f31-49d6-8c31-1a69dec04b8d",
     "showTitle": false,
     "title": ""
    }
   },
   "source": [
    "Repérer les valeurs aberrantes dans le fichier products.csv (ordre de grandeur : plusieurs centaines)."
   ]
  },
  {
   "cell_type": "code",
   "execution_count": 10,
   "metadata": {},
   "outputs": [],
   "source": [
    "import os\n",
    "\n",
    "import pandas as pd"
   ]
  },
  {
   "cell_type": "code",
   "execution_count": null,
   "metadata": {},
   "outputs": [
    {
     "name": "stderr",
     "output_type": "stream",
     "text": [
      "C:\\Users\\bspeziale\\AppData\\Local\\Temp\\ipykernel_34328\\1217617091.py:1: DtypeWarning: Columns (1) have mixed types. Specify dtype option on import or set low_memory=False.\n",
      "  df = pd.read_csv(os.path.join(os.pardir, os.pardir, \"data\", \"products.csv\"))\n"
     ]
    }
   ],
   "source": [
    "df = pd.read_csv(os.path.join(os.pardir, os.pardir, \"data\", \"products.csv\"))  # ou pathlib"
   ]
  },
  {
   "cell_type": "code",
   "execution_count": 14,
   "metadata": {},
   "outputs": [
    {
     "data": {
      "text/html": [
       "<div>\n",
       "<style scoped>\n",
       "    .dataframe tbody tr th:only-of-type {\n",
       "        vertical-align: middle;\n",
       "    }\n",
       "\n",
       "    .dataframe tbody tr th {\n",
       "        vertical-align: top;\n",
       "    }\n",
       "\n",
       "    .dataframe thead th {\n",
       "        text-align: right;\n",
       "    }\n",
       "</style>\n",
       "<table border=\"1\" class=\"dataframe\">\n",
       "  <thead>\n",
       "    <tr style=\"text-align: right;\">\n",
       "      <th></th>\n",
       "      <th>Unnamed: 0</th>\n",
       "      <th>code</th>\n",
       "      <th>fat_100g</th>\n",
       "      <th>saturated-fat_100g</th>\n",
       "      <th>sugars_100g</th>\n",
       "      <th>fiber_100g</th>\n",
       "      <th>proteins_100g</th>\n",
       "      <th>salt_100g</th>\n",
       "      <th>sodium_100g</th>\n",
       "      <th>autre</th>\n",
       "    </tr>\n",
       "  </thead>\n",
       "  <tbody>\n",
       "    <tr>\n",
       "      <th>0</th>\n",
       "      <td>0</td>\n",
       "      <td>3087</td>\n",
       "      <td>NaN</td>\n",
       "      <td>NaN</td>\n",
       "      <td>NaN</td>\n",
       "      <td>NaN</td>\n",
       "      <td>NaN</td>\n",
       "      <td>NaN</td>\n",
       "      <td>NaN</td>\n",
       "      <td>100.00000</td>\n",
       "    </tr>\n",
       "    <tr>\n",
       "      <th>1</th>\n",
       "      <td>1</td>\n",
       "      <td>4530</td>\n",
       "      <td>28.57</td>\n",
       "      <td>28.57</td>\n",
       "      <td>14.29</td>\n",
       "      <td>3.6</td>\n",
       "      <td>3.57</td>\n",
       "      <td>0.00000</td>\n",
       "      <td>0.000</td>\n",
       "      <td>21.40000</td>\n",
       "    </tr>\n",
       "    <tr>\n",
       "      <th>2</th>\n",
       "      <td>2</td>\n",
       "      <td>4559</td>\n",
       "      <td>17.86</td>\n",
       "      <td>0.00</td>\n",
       "      <td>17.86</td>\n",
       "      <td>7.1</td>\n",
       "      <td>17.86</td>\n",
       "      <td>0.63500</td>\n",
       "      <td>0.250</td>\n",
       "      <td>38.43500</td>\n",
       "    </tr>\n",
       "    <tr>\n",
       "      <th>3</th>\n",
       "      <td>3</td>\n",
       "      <td>16087</td>\n",
       "      <td>57.14</td>\n",
       "      <td>5.36</td>\n",
       "      <td>3.57</td>\n",
       "      <td>7.1</td>\n",
       "      <td>17.86</td>\n",
       "      <td>1.22428</td>\n",
       "      <td>0.482</td>\n",
       "      <td>7.26372</td>\n",
       "    </tr>\n",
       "    <tr>\n",
       "      <th>4</th>\n",
       "      <td>4</td>\n",
       "      <td>16094</td>\n",
       "      <td>1.43</td>\n",
       "      <td>NaN</td>\n",
       "      <td>NaN</td>\n",
       "      <td>5.7</td>\n",
       "      <td>8.57</td>\n",
       "      <td>NaN</td>\n",
       "      <td>NaN</td>\n",
       "      <td>84.30000</td>\n",
       "    </tr>\n",
       "  </tbody>\n",
       "</table>\n",
       "</div>"
      ],
      "text/plain": [
       "   Unnamed: 0   code  fat_100g  saturated-fat_100g  sugars_100g  fiber_100g  \\\n",
       "0           0   3087       NaN                 NaN          NaN         NaN   \n",
       "1           1   4530     28.57               28.57        14.29         3.6   \n",
       "2           2   4559     17.86                0.00        17.86         7.1   \n",
       "3           3  16087     57.14                5.36         3.57         7.1   \n",
       "4           4  16094      1.43                 NaN          NaN         5.7   \n",
       "\n",
       "   proteins_100g  salt_100g  sodium_100g      autre  \n",
       "0            NaN        NaN          NaN  100.00000  \n",
       "1           3.57    0.00000        0.000   21.40000  \n",
       "2          17.86    0.63500        0.250   38.43500  \n",
       "3          17.86    1.22428        0.482    7.26372  \n",
       "4           8.57        NaN          NaN   84.30000  "
      ]
     },
     "execution_count": 14,
     "metadata": {},
     "output_type": "execute_result"
    }
   ],
   "source": [
    "df.head()"
   ]
  },
  {
   "cell_type": "code",
   "execution_count": 17,
   "metadata": {},
   "outputs": [
    {
     "data": {
      "text/html": [
       "<div>\n",
       "<style scoped>\n",
       "    .dataframe tbody tr th:only-of-type {\n",
       "        vertical-align: middle;\n",
       "    }\n",
       "\n",
       "    .dataframe tbody tr th {\n",
       "        vertical-align: top;\n",
       "    }\n",
       "\n",
       "    .dataframe thead th {\n",
       "        text-align: right;\n",
       "    }\n",
       "</style>\n",
       "<table border=\"1\" class=\"dataframe\">\n",
       "  <thead>\n",
       "    <tr style=\"text-align: right;\">\n",
       "      <th></th>\n",
       "      <th>Unnamed: 0</th>\n",
       "      <th>fat_100g</th>\n",
       "      <th>saturated-fat_100g</th>\n",
       "      <th>sugars_100g</th>\n",
       "      <th>fiber_100g</th>\n",
       "      <th>proteins_100g</th>\n",
       "      <th>salt_100g</th>\n",
       "      <th>sodium_100g</th>\n",
       "      <th>autre</th>\n",
       "    </tr>\n",
       "  </thead>\n",
       "  <tbody>\n",
       "    <tr>\n",
       "      <th>count</th>\n",
       "      <td>320772.000000</td>\n",
       "      <td>243891.000000</td>\n",
       "      <td>229554.000000</td>\n",
       "      <td>244971.000000</td>\n",
       "      <td>200886.000000</td>\n",
       "      <td>259922.000000</td>\n",
       "      <td>255510.000000</td>\n",
       "      <td>255463.000000</td>\n",
       "      <td>320772.000000</td>\n",
       "    </tr>\n",
       "    <tr>\n",
       "      <th>mean</th>\n",
       "      <td>160385.500000</td>\n",
       "      <td>12.730379</td>\n",
       "      <td>5.129932</td>\n",
       "      <td>16.003484</td>\n",
       "      <td>2.862111</td>\n",
       "      <td>7.075940</td>\n",
       "      <td>2.028624</td>\n",
       "      <td>0.798815</td>\n",
       "      <td>65.861511</td>\n",
       "    </tr>\n",
       "    <tr>\n",
       "      <th>std</th>\n",
       "      <td>92599.044612</td>\n",
       "      <td>17.578747</td>\n",
       "      <td>8.014238</td>\n",
       "      <td>22.327284</td>\n",
       "      <td>12.867578</td>\n",
       "      <td>8.409054</td>\n",
       "      <td>128.269454</td>\n",
       "      <td>50.504428</td>\n",
       "      <td>32.091021</td>\n",
       "    </tr>\n",
       "    <tr>\n",
       "      <th>min</th>\n",
       "      <td>0.000000</td>\n",
       "      <td>0.000000</td>\n",
       "      <td>0.000000</td>\n",
       "      <td>-17.860000</td>\n",
       "      <td>-6.700000</td>\n",
       "      <td>-800.000000</td>\n",
       "      <td>0.000000</td>\n",
       "      <td>0.000000</td>\n",
       "      <td>0.000000</td>\n",
       "    </tr>\n",
       "    <tr>\n",
       "      <th>25%</th>\n",
       "      <td>80192.750000</td>\n",
       "      <td>0.000000</td>\n",
       "      <td>0.000000</td>\n",
       "      <td>1.300000</td>\n",
       "      <td>0.000000</td>\n",
       "      <td>0.700000</td>\n",
       "      <td>0.063500</td>\n",
       "      <td>0.025000</td>\n",
       "      <td>41.907242</td>\n",
       "    </tr>\n",
       "    <tr>\n",
       "      <th>50%</th>\n",
       "      <td>160385.500000</td>\n",
       "      <td>5.000000</td>\n",
       "      <td>1.790000</td>\n",
       "      <td>5.710000</td>\n",
       "      <td>1.500000</td>\n",
       "      <td>4.760000</td>\n",
       "      <td>0.581660</td>\n",
       "      <td>0.229000</td>\n",
       "      <td>75.670259</td>\n",
       "    </tr>\n",
       "    <tr>\n",
       "      <th>75%</th>\n",
       "      <td>240578.250000</td>\n",
       "      <td>20.000000</td>\n",
       "      <td>7.140000</td>\n",
       "      <td>24.000000</td>\n",
       "      <td>3.600000</td>\n",
       "      <td>10.000000</td>\n",
       "      <td>1.374140</td>\n",
       "      <td>0.541000</td>\n",
       "      <td>94.145336</td>\n",
       "    </tr>\n",
       "    <tr>\n",
       "      <th>max</th>\n",
       "      <td>320771.000000</td>\n",
       "      <td>714.290000</td>\n",
       "      <td>550.000000</td>\n",
       "      <td>3520.000000</td>\n",
       "      <td>5380.000000</td>\n",
       "      <td>430.000000</td>\n",
       "      <td>64312.800000</td>\n",
       "      <td>25320.000000</td>\n",
       "      <td>889.380000</td>\n",
       "    </tr>\n",
       "  </tbody>\n",
       "</table>\n",
       "</div>"
      ],
      "text/plain": [
       "          Unnamed: 0       fat_100g  saturated-fat_100g    sugars_100g  \\\n",
       "count  320772.000000  243891.000000       229554.000000  244971.000000   \n",
       "mean   160385.500000      12.730379            5.129932      16.003484   \n",
       "std     92599.044612      17.578747            8.014238      22.327284   \n",
       "min         0.000000       0.000000            0.000000     -17.860000   \n",
       "25%     80192.750000       0.000000            0.000000       1.300000   \n",
       "50%    160385.500000       5.000000            1.790000       5.710000   \n",
       "75%    240578.250000      20.000000            7.140000      24.000000   \n",
       "max    320771.000000     714.290000          550.000000    3520.000000   \n",
       "\n",
       "          fiber_100g  proteins_100g      salt_100g    sodium_100g  \\\n",
       "count  200886.000000  259922.000000  255510.000000  255463.000000   \n",
       "mean        2.862111       7.075940       2.028624       0.798815   \n",
       "std        12.867578       8.409054     128.269454      50.504428   \n",
       "min        -6.700000    -800.000000       0.000000       0.000000   \n",
       "25%         0.000000       0.700000       0.063500       0.025000   \n",
       "50%         1.500000       4.760000       0.581660       0.229000   \n",
       "75%         3.600000      10.000000       1.374140       0.541000   \n",
       "max      5380.000000     430.000000   64312.800000   25320.000000   \n",
       "\n",
       "               autre  \n",
       "count  320772.000000  \n",
       "mean       65.861511  \n",
       "std        32.091021  \n",
       "min         0.000000  \n",
       "25%        41.907242  \n",
       "50%        75.670259  \n",
       "75%        94.145336  \n",
       "max       889.380000  "
      ]
     },
     "execution_count": 17,
     "metadata": {},
     "output_type": "execute_result"
    }
   ],
   "source": [
    "df.describe()"
   ]
  },
  {
   "cell_type": "code",
   "execution_count": 16,
   "metadata": {},
   "outputs": [
    {
     "data": {
      "text/html": [
       "<div>\n",
       "<style scoped>\n",
       "    .dataframe tbody tr th:only-of-type {\n",
       "        vertical-align: middle;\n",
       "    }\n",
       "\n",
       "    .dataframe tbody tr th {\n",
       "        vertical-align: top;\n",
       "    }\n",
       "\n",
       "    .dataframe thead th {\n",
       "        text-align: right;\n",
       "    }\n",
       "</style>\n",
       "<table border=\"1\" class=\"dataframe\">\n",
       "  <thead>\n",
       "    <tr style=\"text-align: right;\">\n",
       "      <th></th>\n",
       "      <th>code</th>\n",
       "    </tr>\n",
       "  </thead>\n",
       "  <tbody>\n",
       "    <tr>\n",
       "      <th>count</th>\n",
       "      <td>320749</td>\n",
       "    </tr>\n",
       "    <tr>\n",
       "      <th>unique</th>\n",
       "      <td>320643</td>\n",
       "    </tr>\n",
       "    <tr>\n",
       "      <th>top</th>\n",
       "      <td>72101011766</td>\n",
       "    </tr>\n",
       "    <tr>\n",
       "      <th>freq</th>\n",
       "      <td>2</td>\n",
       "    </tr>\n",
       "  </tbody>\n",
       "</table>\n",
       "</div>"
      ],
      "text/plain": [
       "               code\n",
       "count        320749\n",
       "unique       320643\n",
       "top     72101011766\n",
       "freq              2"
      ]
     },
     "execution_count": 16,
     "metadata": {},
     "output_type": "execute_result"
    }
   ],
   "source": [
    "df.describe(include=\"object\")"
   ]
  },
  {
   "cell_type": "code",
   "execution_count": 19,
   "metadata": {},
   "outputs": [
    {
     "data": {
      "text/plain": [
       "['Unnamed: 0',\n",
       " 'code',\n",
       " 'fat_100g',\n",
       " 'saturated-fat_100g',\n",
       " 'sugars_100g',\n",
       " 'fiber_100g',\n",
       " 'proteins_100g',\n",
       " 'salt_100g',\n",
       " 'sodium_100g',\n",
       " 'autre']"
      ]
     },
     "execution_count": 19,
     "metadata": {},
     "output_type": "execute_result"
    }
   ],
   "source": [
    "list(df.columns)"
   ]
  },
  {
   "cell_type": "code",
   "execution_count": 40,
   "metadata": {},
   "outputs": [],
   "source": [
    "mask_sup_100 = (\n",
    "    (df[\"fat_100g\"] > 100)\n",
    "    | (df[\"saturated-fat_100g\"] > 100)\n",
    "    | (df[\"sugars_100g\"] > 100)\n",
    "    | (df[\"fiber_100g\"] > 100)\n",
    "    | (df[\"proteins_100g\"] > 100)\n",
    "    | (df[\"salt_100g\"] > 100)\n",
    "    | (df[\"sodium_100g\"] > 100)\n",
    ")\n"
   ]
  },
  {
   "cell_type": "code",
   "execution_count": 41,
   "metadata": {},
   "outputs": [],
   "source": [
    "df_sup_100 = df[mask_sup_100]"
   ]
  },
  {
   "cell_type": "code",
   "execution_count": 45,
   "metadata": {},
   "outputs": [
    {
     "data": {
      "text/plain": [
       "176"
      ]
     },
     "execution_count": 45,
     "metadata": {},
     "output_type": "execute_result"
    }
   ],
   "source": [
    "len(df_sup_100)"
   ]
  },
  {
   "cell_type": "code",
   "execution_count": 29,
   "metadata": {},
   "outputs": [],
   "source": [
    "mask_neg = (\n",
    "    (df[\"fat_100g\"] < 0)\n",
    "    | (df[\"saturated-fat_100g\"] < 0)\n",
    "    | (df[\"sugars_100g\"] < 0)\n",
    "    | (df[\"fiber_100g\"] < 0)\n",
    "    | (df[\"proteins_100g\"] < 0)\n",
    "    | (df[\"salt_100g\"] < 0)\n",
    "    | (df[\"sodium_100g\"] < 0)\n",
    ")\n"
   ]
  },
  {
   "cell_type": "code",
   "execution_count": 30,
   "metadata": {},
   "outputs": [],
   "source": [
    "df_neg = df[mask_neg]"
   ]
  },
  {
   "cell_type": "code",
   "execution_count": 39,
   "metadata": {},
   "outputs": [
    {
     "data": {
      "text/plain": [
       "11"
      ]
     },
     "execution_count": 39,
     "metadata": {},
     "output_type": "execute_result"
    }
   ],
   "source": [
    "len(df_neg)"
   ]
  },
  {
   "cell_type": "markdown",
   "metadata": {},
   "source": []
  },
  {
   "cell_type": "code",
   "execution_count": null,
   "metadata": {},
   "outputs": [
    {
     "name": "stdout",
     "output_type": "stream",
     "text": [
      "   fat_100g  sugars_100g  fiber_100g  proteins_100g  salt_100g     autre\n",
      "1     28.57        14.29         3.6           3.57    0.00000  21.40000\n",
      "2     17.86        17.86         7.1          17.86    0.63500  38.43500\n",
      "3     57.14         3.57         7.1          17.86    1.22428   7.26372\n",
      "5     18.27        11.54         7.7          13.46        NaN  47.11000\n",
      "7     18.75        15.62         9.4          14.06    0.13970  37.28530\n",
      "230630\n"
     ]
    }
   ],
   "source": [
    "columns_equals_100 = (\n",
    "    \"fat_100g\",\n",
    "    \"sugars_100g\",\n",
    "    \"fiber_100g\",\n",
    "    \"proteins_100g\",\n",
    "    \"salt_100g\",\n",
    "    \"autre\",\n",
    ")\n",
    "mask_100 = (df[list(columns_equals_100)].sum(axis=1) != 100)  # mauvaise pratique !\n",
    "df_100 = df[list(columns_equals_100)][mask_100]\n",
    "print(df_100.head())\n",
    "print(len(df_100))"
   ]
  },
  {
   "cell_type": "code",
   "execution_count": null,
   "metadata": {},
   "outputs": [],
   "source": []
  }
 ],
 "metadata": {
  "application/vnd.databricks.v1+notebook": {
   "dashboards": [],
   "language": "python",
   "notebookMetadata": {
    "mostRecentlyExecutedCommandWithImplicitDF": {
     "commandId": 1312777354047232,
     "dataframes": [
      "_sqldf"
     ]
    },
    "pythonIndentUnit": 4
   },
   "notebookName": "SPN_exploration",
   "widgets": {}
  },
  "kernelspec": {
   "display_name": "test-yOZBwoax-py3.11",
   "language": "python",
   "name": "python3"
  },
  "language_info": {
   "codemirror_mode": {
    "name": "ipython",
    "version": 3
   },
   "file_extension": ".py",
   "mimetype": "text/x-python",
   "name": "python",
   "nbconvert_exporter": "python",
   "pygments_lexer": "ipython3",
   "version": "3.11.4"
  }
 },
 "nbformat": 4,
 "nbformat_minor": 0
}
